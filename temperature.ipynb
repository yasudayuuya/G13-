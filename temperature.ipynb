{
 "cells": [
  {
   "cell_type": "code",
   "execution_count": 27,
   "metadata": {},
   "outputs": [],
   "source": [
    "from bs4 import BeautifulSoup\n",
    "import requests\n",
    "import time"
   ]
  },
  {
   "cell_type": "code",
   "execution_count": 28,
   "metadata": {},
   "outputs": [],
   "source": [
    "url = \"https://www.data.jma.go.jp/obd/stats/etrn/view/hourly_a1.php?prec_no=45&block_no=1236&year=2024&month=01&day=1&view=p1\"\n",
    "temperature_data = []\n",
    "time.sleep(0.1)"
   ]
  },
  {
   "cell_type": "code",
   "execution_count": 29,
   "metadata": {},
   "outputs": [],
   "source": [
    "res = requests.get(url)\n",
    "html = res.text\n",
    "soup = BeautifulSoup(res.text, 'html.parser')\n",
    "time.sleep(0.1)"
   ]
  },
  {
   "cell_type": "code",
   "execution_count": 30,
   "metadata": {},
   "outputs": [],
   "source": [
    "for tr in soup.find_all('tr', class_='mtx'):\n",
    "    td_list = tr.find_all('td')\n",
    "    if len(td_list) >= 3:\n",
    "        time_values = td_list[0].text.strip()\n",
    "        temperature_values = td_list[2].text.strip()\n",
    "        temperature_data.append({'time': time_values, 'temperature': temperature_values})"
   ]
  },
  {
   "cell_type": "code",
   "execution_count": 31,
   "metadata": {},
   "outputs": [
    {
     "name": "stdout",
     "output_type": "stream",
     "text": [
      "Time: 1, Temperature: 10.0\n",
      "Time: 2, Temperature: 10.6\n",
      "Time: 3, Temperature: 10.1\n",
      "Time: 4, Temperature: 9.8\n",
      "Time: 5, Temperature: 9.5\n",
      "Time: 6, Temperature: 9.0\n",
      "Time: 7, Temperature: 8.5\n",
      "Time: 8, Temperature: 8.7\n",
      "Time: 9, Temperature: 9.8\n",
      "Time: 10, Temperature: 10.4\n",
      "Time: 11, Temperature: 10.7\n",
      "Time: 12, Temperature: 11.6\n",
      "Time: 13, Temperature: 12.1\n",
      "Time: 14, Temperature: 12.1\n",
      "Time: 15, Temperature: 11.8\n",
      "Time: 16, Temperature: 11.4\n",
      "Time: 17, Temperature: 10.0\n",
      "Time: 18, Temperature: 8.8\n",
      "Time: 19, Temperature: 7.3\n",
      "Time: 20, Temperature: 6.4\n",
      "Time: 21, Temperature: 5.7\n",
      "Time: 22, Temperature: 5.3\n",
      "Time: 23, Temperature: 4.3\n",
      "Time: 24, Temperature: 4.1\n"
     ]
    }
   ],
   "source": [
    "for item  in temperature_data:\n",
    "    print(f\"Time: {item['time']}, Temperature: {item['temperature']}\")"
   ]
  },
  {
   "cell_type": "code",
   "execution_count": 32,
   "metadata": {},
   "outputs": [],
   "source": [
    "import sqlite3"
   ]
  },
  {
   "cell_type": "code",
   "execution_count": 33,
   "metadata": {},
   "outputs": [],
   "source": [
    "con = sqlite3.connect('google_database.db')\n",
    "cur = con.cursor()\n",
    "\n",
    "sql_createtable_DSp = 'CREATE TABLE IF NOT EXISTS sql_DS (time TEXT, temperature TEXT)'\n",
    "cur.execute(sql_createtable_DSp)\n",
    "\n",
    "for item in temperature_data:\n",
    "    cur.execute('INSERT INTO sql_DS (time, temperature) VALUES (?, ?)', (item['time'], item['temperature']))\n",
    "\n",
    "con.commit()\n",
    "\n",
    "con.close()"
   ]
  },
  {
   "cell_type": "code",
   "execution_count": 34,
   "metadata": {},
   "outputs": [
    {
     "name": "stdout",
     "output_type": "stream",
     "text": [
      "('1', '10.0')\n",
      "('2', '10.6')\n",
      "('3', '10.1')\n",
      "('4', '9.8')\n",
      "('5', '9.5')\n",
      "('6', '9.0')\n",
      "('7', '8.5')\n",
      "('8', '8.7')\n",
      "('9', '9.8')\n",
      "('10', '10.4')\n",
      "('11', '10.7')\n",
      "('12', '11.6')\n",
      "('13', '12.1')\n",
      "('14', '12.1')\n",
      "('15', '11.8')\n",
      "('16', '11.4')\n",
      "('17', '10.0')\n",
      "('18', '8.8')\n",
      "('19', '7.3')\n",
      "('20', '6.4')\n",
      "('21', '5.7')\n",
      "('22', '5.3')\n",
      "('23', '4.3')\n",
      "('24', '4.1')\n",
      "('1', '10.0')\n",
      "('2', '10.6')\n",
      "('3', '10.1')\n",
      "('4', '9.8')\n",
      "('5', '9.5')\n",
      "('6', '9.0')\n",
      "('7', '8.5')\n",
      "('8', '8.7')\n",
      "('9', '9.8')\n",
      "('10', '10.4')\n",
      "('11', '10.7')\n",
      "('12', '11.6')\n",
      "('13', '12.1')\n",
      "('14', '12.1')\n",
      "('15', '11.8')\n",
      "('16', '11.4')\n",
      "('17', '10.0')\n",
      "('18', '8.8')\n",
      "('19', '7.3')\n",
      "('20', '6.4')\n",
      "('21', '5.7')\n",
      "('22', '5.3')\n",
      "('23', '4.3')\n",
      "('24', '4.1')\n"
     ]
    }
   ],
   "source": [
    "con = sqlite3.connect('google_database.db')\n",
    "cur = con.cursor()\n",
    "\n",
    "cur.execute('SELECT * FROM sql_DS')\n",
    "rows = cur.fetchall()\n",
    "\n",
    "for row in rows:\n",
    "    print(row)\n",
    "\n",
    "con.close() "
   ]
  }
 ],
 "metadata": {
  "kernelspec": {
   "display_name": "Python 3",
   "language": "python",
   "name": "python3"
  },
  "language_info": {
   "codemirror_mode": {
    "name": "ipython",
    "version": 3
   },
   "file_extension": ".py",
   "mimetype": "text/x-python",
   "name": "python",
   "nbconvert_exporter": "python",
   "pygments_lexer": "ipython3",
   "version": "3.11.5"
  }
 },
 "nbformat": 4,
 "nbformat_minor": 2
}
