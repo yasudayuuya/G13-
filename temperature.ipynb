{
 "cells": [
  {
   "cell_type": "code",
   "execution_count": 26,
   "metadata": {},
   "outputs": [],
   "source": [
    "from bs4 import BeautifulSoup\n",
    "import requests\n",
    "import time"
   ]
  },
  {
   "cell_type": "code",
   "execution_count": 27,
   "metadata": {},
   "outputs": [],
   "source": [
    "url = \"https://www.data.jma.go.jp/obd/stats/etrn/view/hourly_a1.php?prec_no=45&block_no=1236&year=2024&month=01&day=1&view=p1\"\n",
    "temperature_data = []\n",
    "time.sleep(0.1)"
   ]
  },
  {
   "cell_type": "code",
   "execution_count": 28,
   "metadata": {},
   "outputs": [],
   "source": [
    "res = requests.get(url)\n",
    "html = res.text\n",
    "soup = BeautifulSoup(res.text, 'html.parser')\n",
    "time.sleep(0.1)"
   ]
  },
  {
   "cell_type": "code",
   "execution_count": 29,
   "metadata": {},
   "outputs": [],
   "source": [
    "for tr in soup.find_all('tr', class_='mtx'):\n",
    "    td_list = tr.find_all('td')\n",
    "    if len(td_list) >= 3:\n",
    "        time_values = td_list[0].text.strip()\n",
    "        temperature_values = td_list[2].text.strip()\n",
    "        sunshine_hours_values = td_list[8].text.strip()\n",
    "        temperature_data.append({'time': time_values, 'temperature_open': temperature_values, 'sunshine_hour': sunshine_hours_values})"
   ]
  },
  {
   "cell_type": "code",
   "execution_count": 33,
   "metadata": {},
   "outputs": [
    {
     "name": "stdout",
     "output_type": "stream",
     "text": [
      "Time: 1, Temperature_open: 10.0, Sunshine_hours: \n",
      "Time: 2, Temperature_open: 10.6, Sunshine_hours: \n",
      "Time: 3, Temperature_open: 10.1, Sunshine_hours: \n",
      "Time: 4, Temperature_open: 9.8, Sunshine_hours: \n",
      "Time: 5, Temperature_open: 9.5, Sunshine_hours: \n",
      "Time: 6, Temperature_open: 9.0, Sunshine_hours: \n",
      "Time: 7, Temperature_open: 8.5, Sunshine_hours: 0.0\n",
      "Time: 8, Temperature_open: 8.7, Sunshine_hours: 0.8\n",
      "Time: 9, Temperature_open: 9.8, Sunshine_hours: 1.0\n",
      "Time: 10, Temperature_open: 10.4, Sunshine_hours: 1.0\n",
      "Time: 11, Temperature_open: 10.7, Sunshine_hours: 1.0\n",
      "Time: 12, Temperature_open: 11.6, Sunshine_hours: 1.0\n",
      "Time: 13, Temperature_open: 12.1, Sunshine_hours: 1.0\n",
      "Time: 14, Temperature_open: 12.1, Sunshine_hours: 1.0\n",
      "Time: 15, Temperature_open: 11.8, Sunshine_hours: 1.0\n",
      "Time: 16, Temperature_open: 11.4, Sunshine_hours: 1.0\n",
      "Time: 17, Temperature_open: 10.0, Sunshine_hours: 0.4\n",
      "Time: 18, Temperature_open: 8.8, Sunshine_hours: \n",
      "Time: 19, Temperature_open: 7.3, Sunshine_hours: \n",
      "Time: 20, Temperature_open: 6.4, Sunshine_hours: \n",
      "Time: 21, Temperature_open: 5.7, Sunshine_hours: \n",
      "Time: 22, Temperature_open: 5.3, Sunshine_hours: \n",
      "Time: 23, Temperature_open: 4.3, Sunshine_hours: \n",
      "Time: 24, Temperature_open: 4.1, Sunshine_hours: \n"
     ]
    }
   ],
   "source": [
    "for item  in temperature_data:\n",
    "    print(f\"Time: {item['time']}, Temperature_open: {item['temperature_open']}, Sunshine_hours: {item['sunshine_hour']}\")"
   ]
  },
  {
   "cell_type": "code",
   "execution_count": 31,
   "metadata": {},
   "outputs": [],
   "source": [
    "import sqlite3"
   ]
  },
  {
   "cell_type": "code",
   "execution_count": 35,
   "metadata": {},
   "outputs": [],
   "source": [
    "con = sqlite3.connect('google_database.db')\n",
    "cur = con.cursor()\n",
    "\n",
    "sql_createtable_DSp = 'CREATE TABLE IF NOT EXISTS sql_DS (time TEXT, temperature_open TEXT, sunshine_hour TEXT)'\n",
    "cur.execute(sql_createtable_DSp)\n",
    "\n",
    "for item in temperature_data:\n",
    "    cur.execute('INSERT INTO sql_DS (time, temperature_open, sunshine_hour) VALUES (?, ?, ?)', (item['time'], item['temperature_open'], item['sunshine_hour']))\n",
    "\n",
    "con.commit()\n",
    "\n",
    "con.close()"
   ]
  },
  {
   "cell_type": "code",
   "execution_count": 36,
   "metadata": {},
   "outputs": [
    {
     "name": "stdout",
     "output_type": "stream",
     "text": [
      "('1', '10.0', '')\n",
      "('2', '10.6', '')\n",
      "('3', '10.1', '')\n",
      "('4', '9.8', '')\n",
      "('5', '9.5', '')\n",
      "('6', '9.0', '')\n",
      "('7', '8.5', '0.0')\n",
      "('8', '8.7', '0.8')\n",
      "('9', '9.8', '1.0')\n",
      "('10', '10.4', '1.0')\n",
      "('11', '10.7', '1.0')\n",
      "('12', '11.6', '1.0')\n",
      "('13', '12.1', '1.0')\n",
      "('14', '12.1', '1.0')\n",
      "('15', '11.8', '1.0')\n",
      "('16', '11.4', '1.0')\n",
      "('17', '10.0', '0.4')\n",
      "('18', '8.8', '')\n",
      "('19', '7.3', '')\n",
      "('20', '6.4', '')\n",
      "('21', '5.7', '')\n",
      "('22', '5.3', '')\n",
      "('23', '4.3', '')\n",
      "('24', '4.1', '')\n"
     ]
    }
   ],
   "source": [
    "con = sqlite3.connect('google_database.db')\n",
    "cur = con.cursor()\n",
    "\n",
    "cur.execute('SELECT * FROM sql_DS')\n",
    "rows = cur.fetchall()\n",
    "\n",
    "for row in rows:\n",
    "    print(row)\n",
    "\n",
    "con.close() "
   ]
  }
 ],
 "metadata": {
  "kernelspec": {
   "display_name": "Python 3",
   "language": "python",
   "name": "python3"
  },
  "language_info": {
   "codemirror_mode": {
    "name": "ipython",
    "version": 3
   },
   "file_extension": ".py",
   "mimetype": "text/x-python",
   "name": "python",
   "nbconvert_exporter": "python",
   "pygments_lexer": "ipython3",
   "version": "3.11.5"
  }
 },
 "nbformat": 4,
 "nbformat_minor": 2
}
