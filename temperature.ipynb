{
 "cells": [
  {
   "cell_type": "code",
   "execution_count": 1,
   "metadata": {},
   "outputs": [],
   "source": [
    "from bs4 import BeautifulSoup\n",
    "import requests\n",
    "import time"
   ]
  },
  {
   "cell_type": "code",
   "execution_count": 2,
   "metadata": {},
   "outputs": [],
   "source": [
    "url = \"https://www.data.jma.go.jp/obd/stats/etrn/view/hourly_a1.php?prec_no=45&block_no=1236&year=2024&month=01&day=1&view=p1\"\n",
    "temperature_data = []\n",
    "time.sleep(0.1)"
   ]
  },
  {
   "cell_type": "code",
   "execution_count": 4,
   "metadata": {},
   "outputs": [],
   "source": [
    "res = requests.get(url)\n",
    "html = res.text\n",
    "soup = BeautifulSoup(res.text, 'html.parser')\n",
    "time.sleep(0.1)"
   ]
  },
  {
   "cell_type": "code",
   "execution_count": 5,
   "metadata": {},
   "outputs": [],
   "source": [
    "for tr in soup.find_all('tr', class_='mtx'):\n",
    "    td_list = tr.find_all('td')\n",
    "    if len(td_list) >= 3:\n",
    "        time = td_list[0].text.strip()\n",
    "        temperature = td_list[2].text.strip()\n",
    "        temperature_data.append((time, temperature))"
   ]
  },
  {
   "cell_type": "code",
   "execution_count": 6,
   "metadata": {},
   "outputs": [
    {
     "name": "stdout",
     "output_type": "stream",
     "text": [
      "Time: 1, Temperature: 10.0\n",
      "Time: 2, Temperature: 10.6\n",
      "Time: 3, Temperature: 10.1\n",
      "Time: 4, Temperature: 9.8\n",
      "Time: 5, Temperature: 9.5\n",
      "Time: 6, Temperature: 9.0\n",
      "Time: 7, Temperature: 8.5\n",
      "Time: 8, Temperature: 8.7\n",
      "Time: 9, Temperature: 9.8\n",
      "Time: 10, Temperature: 10.4\n",
      "Time: 11, Temperature: 10.7\n",
      "Time: 12, Temperature: 11.6\n",
      "Time: 13, Temperature: 12.1\n",
      "Time: 14, Temperature: 12.1\n",
      "Time: 15, Temperature: 11.8\n",
      "Time: 16, Temperature: 11.4\n",
      "Time: 17, Temperature: 10.0\n",
      "Time: 18, Temperature: 8.8\n",
      "Time: 19, Temperature: 7.3\n",
      "Time: 20, Temperature: 6.4\n",
      "Time: 21, Temperature: 5.7\n",
      "Time: 22, Temperature: 5.3\n",
      "Time: 23, Temperature: 4.3\n",
      "Time: 24, Temperature: 4.1\n"
     ]
    }
   ],
   "source": [
    "for time, temperature  in temperature_data:\n",
    "    print(f\"Time: {time}, Temperature: {temperature}\")"
   ]
  }
 ],
 "metadata": {
  "kernelspec": {
   "display_name": "Python 3",
   "language": "python",
   "name": "python3"
  },
  "language_info": {
   "codemirror_mode": {
    "name": "ipython",
    "version": 3
   },
   "file_extension": ".py",
   "mimetype": "text/x-python",
   "name": "python",
   "nbconvert_exporter": "python",
   "pygments_lexer": "ipython3",
   "version": "3.11.5"
  }
 },
 "nbformat": 4,
 "nbformat_minor": 2
}
