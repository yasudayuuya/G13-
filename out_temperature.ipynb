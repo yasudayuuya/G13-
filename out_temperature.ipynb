{
 "cells": [
  {
   "cell_type": "code",
   "execution_count": 2,
   "metadata": {},
   "outputs": [],
   "source": [
    "import csv\n",
    "import pandas as pd"
   ]
  },
  {
   "cell_type": "code",
   "execution_count": 3,
   "metadata": {},
   "outputs": [],
   "source": [
    "import sqlite3"
   ]
  },
  {
   "cell_type": "code",
   "execution_count": 4,
   "metadata": {},
   "outputs": [],
   "source": [
    "con = sqlite3.connect('local_database.db')\n",
    "cur = con.cursor()\n",
    "\n",
    "sql_createtable_local = 'CREATE TABLE IF NOT EXISTS local_data (time TEXT, temperature TEXT, sunshine_hour TEXT)'\n",
    "cur.execute(sql_createtable_local)\n",
    "\n",
    "with open('/Users/yasudayuuya/class/DSprogramming/DSfinal/local.csv', 'r', encoding='utf-8') as csv_file:\n",
    "    csv_reader = csv.reader(csv_file)\n",
    "    next(csv_reader)\n",
    "    for row in csv_reader:\n",
    "        cur.execute('INSERT INTO local_data (time, temperature, sunshine_hour) VALUES (?, ?, ?)', (row[0], row[1], row[2]))\n",
    "\n",
    "con.commit()\n",
    "\n",
    "con.close()"
   ]
  },
  {
   "cell_type": "code",
   "execution_count": 5,
   "metadata": {},
   "outputs": [
    {
     "name": "stdout",
     "output_type": "stream",
     "text": [
      "('1', '9.9', '')\n",
      "('2', '10.3', '')\n",
      "('3', '10.1', '')\n",
      "('4', '9.9', '')\n",
      "('5', '9.0', '')\n",
      "('6', '9.1', '')\n",
      "('7', '8.8', '')\n",
      "('8', '9.2', '0.8')\n",
      "('9', '10.7', '1.0')\n",
      "('10', '12.8', '1.0')\n",
      "('11', '13.5', '1.0')\n",
      "('12', '14.3', '1.0')\n",
      "('13', '14.6', '1.0')\n",
      "('14', '14.5', '1.0')\n",
      "('15', '13.9', '1.0')\n",
      "('16', '12.6', '1.0')\n",
      "('17', '11.6', '0.4')\n",
      "('18', '9.2', '')\n",
      "('19', '7.5', '')\n",
      "('20', '6.6', '')\n",
      "('21', '5.9', '')\n",
      "('22', '5.3', '')\n",
      "('23', '4.4', '')\n",
      "('24', '4.0', '')\n"
     ]
    }
   ],
   "source": [
    "con = sqlite3.connect('local_database.db')\n",
    "cur = con.cursor()\n",
    "\n",
    "cur.execute('SELECT * FROM local_data')\n",
    "rows = cur.fetchall()\n",
    "for row in rows:\n",
    "    print(row)\n",
    "\n",
    "con.close()"
   ]
  }
 ],
 "metadata": {
  "kernelspec": {
   "display_name": "Python 3",
   "language": "python",
   "name": "python3"
  },
  "language_info": {
   "codemirror_mode": {
    "name": "ipython",
    "version": 3
   },
   "file_extension": ".py",
   "mimetype": "text/x-python",
   "name": "python",
   "nbconvert_exporter": "python",
   "pygments_lexer": "ipython3",
   "version": "3.11.5"
  }
 },
 "nbformat": 4,
 "nbformat_minor": 2
}
